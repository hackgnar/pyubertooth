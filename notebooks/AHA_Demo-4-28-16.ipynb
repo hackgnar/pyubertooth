{
 "cells": [
  {
   "cell_type": "markdown",
   "metadata": {},
   "source": [
    "# Python Ubertooth Bindings\n",
    "bla bla bla bla jupyter has no spellcheck so drink when you find spelling errors\n",
    "\n",
    "https://github.com/hackgnar/pyubertooth\n",
    "\n",
    "Why not just use the provided CLI C tools and C libs?\n",
    "* My python implementation sucks and drops a lot of traffic.  Makes it good for low resource devices.\n",
    "* Easy to deploy\n",
    "* Good for prototypes\n",
    "* Access to more functionality than what is provided by CLI without the need to hammer out some C\n",
    "* Easier to integrate with other libs"
   ]
  },
  {
   "cell_type": "markdown",
   "metadata": {},
   "source": [
    "### Lib imports\n",
    "The only one that matters is \n",
    "\n",
    "> ```import Ubertooth```\n",
    "\n",
    "The ````BtbbPacket```` lib is important if you want to decode baseband data off the wire into something other than bits and bytes.  However the current code **sucks ass** and its rewrite is my main objective for revisiting this project"
   ]
  },
  {
   "cell_type": "code",
   "execution_count": 1,
   "metadata": {
    "collapsed": false
   },
   "outputs": [],
   "source": [
    "import time\n",
    "import sys\n",
    "sys.path.insert(0,\"/Users/rholeman/src/pyubertooth\")\n",
    "from pyubertooth.ubertooth import Ubertooth, ubertooth_rx_to_stdout\n",
    "from pylibbtbb.bluetooth_packet import BtbbPacket\n",
    "import bluetooth"
   ]
  },
  {
   "cell_type": "markdown",
   "metadata": {},
   "source": [
    "### Create an ubertooth device to interact with\n",
    "This supports real and file based devices so you can import a dump file for post mortem analysis or testing"
   ]
  },
  {
   "cell_type": "code",
   "execution_count": 2,
   "metadata": {
    "collapsed": false
   },
   "outputs": [],
   "source": [
    "u = Ubertooth()"
   ]
  },
  {
   "cell_type": "markdown",
   "metadata": {},
   "source": [
    "### Get simple information from the device\n",
    "all of this is supported from the C CLI tools"
   ]
  },
  {
   "cell_type": "code",
   "execution_count": 3,
   "metadata": {
    "collapsed": false
   },
   "outputs": [
    {
     "name": "stdout",
     "output_type": "stream",
     "text": [
      "serial: 131111115f025453-5a099ab340000f5\n",
      "part number: 0x25011723\n",
      "board id: 1\n"
     ]
    }
   ],
   "source": [
    "print(\"serial: %s\" % u.cmd_get_serial())\n",
    "print(\"part number: %s\" % u.cmd_get_partnum())\n",
    "print(\"board id: %s\" % u.cmd_get_board_id())"
   ]
  },
  {
   "cell_type": "markdown",
   "metadata": {},
   "source": [
    "### Stream raw data form the device\n",
    "This allows you to do your own deserialization of the btbb data or whatever you want to do"
   ]
  },
  {
   "cell_type": "code",
   "execution_count": 4,
   "metadata": {
    "collapsed": false
   },
   "outputs": [
    {
     "name": "stdout",
     "output_type": "stream",
     "text": [
      "array('B', [0, 24, 39, 0, 160, 82, 178, 169, 230, 186, 0, 18, 0, 0, 97, 64, 96, 228, 122, 12, 96, 126, 200, 99, 1, 149, 208, 165, 221, 28, 109, 182, 10, 224, 46, 184, 135, 143, 13, 32, 199, 119, 90, 106, 100, 113, 160, 49, 235, 175, 48, 160, 132, 112, 230, 0, 143, 253, 201, 188, 112, 190, 190, 86])\n",
      "array('B', [0, 24, 39, 0, 80, 98, 178, 169, 222, 216, 0, 20, 0, 0, 8, 15, 79, 111, 113, 224, 14, 15, 152, 239, 27, 91, 195, 118, 19, 68, 31, 214, 24, 127, 12, 116, 117, 91, 44, 200, 16, 119, 24, 63, 104, 249, 15, 164, 208, 232, 30, 167, 239, 85, 16, 97, 190, 214, 188, 145, 67, 22, 12, 174])\n",
      "array('B', [0, 24, 39, 0, 255, 113, 178, 169, 224, 218, 0, 21, 0, 0, 3, 239, 11, 238, 120, 0, 133, 23, 234, 192, 255, 130, 239, 231, 14, 7, 35, 242, 81, 3, 197, 195, 135, 15, 238, 2, 105, 60, 30, 4, 120, 253, 120, 159, 184, 226, 128, 247, 10, 60, 191, 252, 85, 25, 246, 72, 33, 253, 177, 13])\n",
      "array('B', [0, 24, 39, 0, 158, 129, 178, 169, 225, 218, 255, 20, 0, 0, 230, 31, 181, 58, 203, 144, 110, 3, 151, 61, 69, 106, 35, 252, 1, 113, 32, 190, 235, 227, 184, 47, 82, 179, 19, 198, 227, 190, 9, 158, 227, 52, 131, 127, 1, 95, 234, 205, 19, 255, 36, 150, 112, 126, 80, 83, 191, 91, 190, 216])\n",
      "array('B', [0, 24, 39, 0, 64, 145, 178, 169, 223, 220, 255, 19, 0, 0, 182, 47, 152, 17, 229, 16, 247, 217, 240, 91, 10, 115, 68, 49, 8, 156, 209, 252, 62, 69, 17, 54, 31, 168, 65, 118, 205, 199, 103, 145, 0, 147, 226, 58, 237, 13, 244, 183, 220, 60, 170, 116, 31, 129, 239, 96, 253, 238, 240, 2])\n",
      "5\n"
     ]
    }
   ],
   "source": [
    "for data in u.rx_stream(count=5):\n",
    "    print(data)\n",
    "u.cmd_stop()"
   ]
  },
  {
   "cell_type": "markdown",
   "metadata": {},
   "source": [
    "### Do the same stuff you can do from CLI but in python\n",
    "meh... not so impressive, but cool"
   ]
  },
  {
   "cell_type": "code",
   "execution_count": 5,
   "metadata": {
    "collapsed": true
   },
   "outputs": [],
   "source": [
    "u.cmd_led_specan()"
   ]
  },
  {
   "cell_type": "code",
   "execution_count": 6,
   "metadata": {
    "collapsed": false
   },
   "outputs": [],
   "source": [
    "u.cmd_stop()"
   ]
  },
  {
   "cell_type": "markdown",
   "metadata": {},
   "source": [
    "### Get & set core functionality on the fly\n",
    "You can kind of do this from the CLI tools, but this allows you to do shit on the fly without hacks or a C implementation"
   ]
  },
  {
   "cell_type": "code",
   "execution_count": 9,
   "metadata": {
    "collapsed": false
   },
   "outputs": [
    {
     "data": {
      "text/plain": [
       "50"
      ]
     },
     "execution_count": 9,
     "metadata": {},
     "output_type": "execute_result"
    }
   ],
   "source": [
    "u.cmd_get_channel()"
   ]
  },
  {
   "cell_type": "code",
   "execution_count": 8,
   "metadata": {
    "collapsed": true
   },
   "outputs": [],
   "source": [
    "u.cmd_set_channel(50)"
   ]
  },
  {
   "cell_type": "markdown",
   "metadata": {},
   "source": [
    "### Get & set C only functionality on the fly\n",
    "You can do this shit from the CLI tools.  "
   ]
  },
  {
   "cell_type": "code",
   "execution_count": 38,
   "metadata": {
    "collapsed": false
   },
   "outputs": [
    {
     "name": "stdout",
     "output_type": "stream",
     "text": [
      "5863\n",
      "5864\n",
      "5865\n",
      "5866\n",
      "5867\n",
      "5867\n",
      "5868\n",
      "5869\n",
      "5870\n",
      "5870\n"
     ]
    }
   ],
   "source": [
    "for i in range(10):\n",
    "    print(u.cmd_get_clock())"
   ]
  },
  {
   "cell_type": "code",
   "execution_count": 37,
   "metadata": {
    "collapsed": false
   },
   "outputs": [],
   "source": [
    "u.cmd_set_clock()"
   ]
  },
  {
   "cell_type": "markdown",
   "metadata": {},
   "source": [
    "### Blink lights like a boss\n",
    "because it makes us feel like we know how to program hardware"
   ]
  },
  {
   "cell_type": "code",
   "execution_count": 39,
   "metadata": {
    "collapsed": false
   },
   "outputs": [
    {
     "ename": "KeyboardInterrupt",
     "evalue": "",
     "output_type": "error",
     "traceback": [
      "\u001b[0;31m---------------------------------------------------------------------------\u001b[0m",
      "\u001b[0;31mKeyboardInterrupt\u001b[0m                         Traceback (most recent call last)",
      "\u001b[0;32m<ipython-input-39-40a607cdc2ab>\u001b[0m in \u001b[0;36m<module>\u001b[0;34m()\u001b[0m\n\u001b[1;32m      1\u001b[0m \u001b[0;32mfor\u001b[0m \u001b[0mi\u001b[0m \u001b[0;32min\u001b[0m \u001b[0mrange\u001b[0m\u001b[0;34m(\u001b[0m\u001b[0;36m10\u001b[0m\u001b[0;34m)\u001b[0m\u001b[0;34m:\u001b[0m\u001b[0;34m\u001b[0m\u001b[0m\n\u001b[0;32m----> 2\u001b[0;31m     \u001b[0mtime\u001b[0m\u001b[0;34m.\u001b[0m\u001b[0msleep\u001b[0m\u001b[0;34m(\u001b[0m\u001b[0;36m1\u001b[0m\u001b[0;34m)\u001b[0m\u001b[0;34m\u001b[0m\u001b[0m\n\u001b[0m\u001b[1;32m      3\u001b[0m     \u001b[0mu\u001b[0m\u001b[0;34m.\u001b[0m\u001b[0mcmd_set_usrled\u001b[0m\u001b[0;34m(\u001b[0m\u001b[0mstate\u001b[0m\u001b[0;34m=\u001b[0m\u001b[0mi\u001b[0m\u001b[0;34m%\u001b[0m\u001b[0;36m2\u001b[0m\u001b[0;34m)\u001b[0m\u001b[0;34m\u001b[0m\u001b[0m\n",
      "\u001b[0;31mKeyboardInterrupt\u001b[0m: "
     ]
    }
   ],
   "source": [
    "for i in range(10):\n",
    "    time.sleep(1)\n",
    "    u.cmd_set_usrled(state=i%2)"
   ]
  },
  {
   "cell_type": "code",
   "execution_count": 40,
   "metadata": {
    "collapsed": false
   },
   "outputs": [],
   "source": [
    "for i in range(100):\n",
    "    time.sleep(0.1)\n",
    "    x = u.cmd_get_clock()\n",
    "    u.cmd_set_usrled(state=x%2)\n",
    "    x = u.cmd_get_clock()\n",
    "    u.cmd_set_rxled(state=x%2)\n",
    "    x = u.cmd_get_clock()\n",
    "    u.cmd_set_txled(state=x%2)"
   ]
  },
  {
   "cell_type": "markdown",
   "metadata": {},
   "source": [
    "### Stream and deserialize bluetooth data all in python\n",
    "We can even add some different spins on this by changing settings while doing live streams.  For example, we can add  channel survey (this wasnt always available in the CLI) with the following:\n",
    "````\n",
    "channel = u.cmd_get_channel()\n",
    "channel += 1\n",
    "u.cmd_set_channel(channel % 79)\n",
    "````"
   ]
  },
  {
   "cell_type": "code",
   "execution_count": 47,
   "metadata": {
    "collapsed": false
   },
   "outputs": [
    {
     "name": "stdout",
     "output_type": "stream",
     "text": [
      "{'LAP': '4c9f75', 'channel': 70}\n",
      "{'LAP': '0a4eea', 'channel': 74}\n",
      "{'LAP': 'e6f18d', 'channel': 8}\n",
      "{'LAP': 'e6f18d', 'channel': 0}\n",
      "{'LAP': '0a4eea', 'channel': 0}\n",
      "{'LAP': '0a4eea', 'channel': 8}\n",
      "{'LAP': '0a4eea', 'channel': 68}\n",
      "{'LAP': '6f1c8a', 'channel': 35}\n",
      "{'LAP': '52e388', 'channel': 13}\n",
      "{'LAP': '52e388', 'channel': 9}\n",
      "{'LAP': '4c9f75', 'channel': 54}\n"
     ]
    }
   ],
   "source": [
    "results = []\n",
    "for data in u.rx_stream():\n",
    "    channel = u.cmd_get_channel()\n",
    "    channel += 1\n",
    "    u.cmd_set_channel(channel % 79)    \n",
    "    pkt = BtbbPacket(data=data)\n",
    "    if pkt.LAP:\n",
    "        results.append(pkt)\n",
    "        print(pkt)\n",
    "        if len(results) > 10:\n",
    "            break\n",
    "u.cmd_stop()"
   ]
  },
  {
   "cell_type": "markdown",
   "metadata": {},
   "source": [
    "### Paint a pretty picture\n",
    "Because managers love this shit"
   ]
  },
  {
   "cell_type": "code",
   "execution_count": 49,
   "metadata": {
    "collapsed": false
   },
   "outputs": [
    {
     "data": {
      "image/png": "[encoded data removed]",
      "text/plain": [
       "<matplotlib.figure.Figure at 0x10772aa10>"
      ]
     },
     "metadata": {},
     "output_type": "display_data"
    }
   ],
   "source": [
    "import numpy as np\n",
    "import matplotlib.pyplot as plt\n",
    "%matplotlib inline\n",
    "\n",
    "tmp = {}\n",
    "for i in results:\n",
    "    if i.LAP in tmp:\n",
    "        tmp[i.LAP] += 1\n",
    "    else:\n",
    "        tmp[i.LAP] = 1\n",
    "LAPs = tmp.keys()\n",
    "lap_count = tmp.values()\n",
    "y_pos = np.arange(len(LAPs))\n",
    "fig = plt.figure(figsize=(10, 5))\n",
    "plt.barh(y_pos, lap_count, align='center', alpha=0.4)\n",
    "plt.yticks(y_pos, LAPs)\n",
    "plt.xlabel('count')\n",
    "plt.title('who is out there?')\n",
    "plt.show()"
   ]
  },
  {
   "cell_type": "markdown",
   "metadata": {},
   "source": [
    "### Implement hybrid active/passive approaches\n",
    "**NOTE: dont do this in osx because its python bluetooth support sucks**"
   ]
  },
  {
   "cell_type": "code",
   "execution_count": 50,
   "metadata": {
    "collapsed": false
   },
   "outputs": [
    {
     "data": {
      "text/plain": [
       "['4c9f75', '0a4eea', '6f1c8a', 'e6f18d', '52e388']"
      ]
     },
     "execution_count": 50,
     "metadata": {},
     "output_type": "execute_result"
    }
   ],
   "source": [
    "u_results = list(set([i.LAP for i in results]))\n",
    "u_results"
   ]
  },
  {
   "cell_type": "code",
   "execution_count": null,
   "metadata": {
    "collapsed": false
   },
   "outputs": [
    {
     "name": "stdout",
     "output_type": "stream",
     "text": [
      "trying 0000004c9f75\n",
      "trying 0000014c9f75"
     ]
    },
    {
     "name": "stderr",
     "output_type": "stream",
     "text": [
      "/usr/local/lib/python2.7/site-packages/PyBluez-0.22-py2.7.egg/lightblue/_lightblue.py:88: UserWarning: findservices() couldn't get services for 00-00-00-4c-9f-75: [Errno 4] Error getting services for 00-00-00-4c-9f-75\n",
      "/usr/local/lib/python2.7/site-packages/PyBluez-0.22-py2.7.egg/lightblue/_lightblue.py:88: UserWarning: findservices() couldn't get services for 00-00-01-4c-9f-75: [Errno 4] Error getting services for 00-00-01-4c-9f-75\n"
     ]
    },
    {
     "name": "stdout",
     "output_type": "stream",
     "text": [
      "\n",
      "trying 0000024c9f75\n",
      "trying 0000034c9f75"
     ]
    },
    {
     "name": "stderr",
     "output_type": "stream",
     "text": [
      "/usr/local/lib/python2.7/site-packages/PyBluez-0.22-py2.7.egg/lightblue/_lightblue.py:88: UserWarning: findservices() couldn't get services for 00-00-02-4c-9f-75: [Errno 4] Error getting services for 00-00-02-4c-9f-75\n",
      "/usr/local/lib/python2.7/site-packages/PyBluez-0.22-py2.7.egg/lightblue/_lightblue.py:88: UserWarning: findservices() couldn't get services for 00-00-03-4c-9f-75: Timed out getting services for 00-00-03-4c-9f-75\n"
     ]
    },
    {
     "name": "stdout",
     "output_type": "stream",
     "text": [
      "\n",
      "trying 0000044c9f75\n",
      "trying 0000054c9f75"
     ]
    },
    {
     "name": "stderr",
     "output_type": "stream",
     "text": [
      "/usr/local/lib/python2.7/site-packages/PyBluez-0.22-py2.7.egg/lightblue/_lightblue.py:88: UserWarning: findservices() couldn't get services for 00-00-04-4c-9f-75: Timed out getting services for 00-00-04-4c-9f-75\n",
      "/usr/local/lib/python2.7/site-packages/PyBluez-0.22-py2.7.egg/lightblue/_lightblue.py:88: UserWarning: findservices() couldn't get services for 00-00-05-4c-9f-75: Timed out getting services for 00-00-05-4c-9f-75\n"
     ]
    },
    {
     "name": "stdout",
     "output_type": "stream",
     "text": [
      "\n",
      "trying 0000064c9f75\n",
      "trying 0000074c9f75"
     ]
    },
    {
     "name": "stderr",
     "output_type": "stream",
     "text": [
      "/usr/local/lib/python2.7/site-packages/PyBluez-0.22-py2.7.egg/lightblue/_lightblue.py:88: UserWarning: findservices() couldn't get services for 00-00-06-4c-9f-75: Timed out getting services for 00-00-06-4c-9f-75\n",
      "/usr/local/lib/python2.7/site-packages/PyBluez-0.22-py2.7.egg/lightblue/_lightblue.py:88: UserWarning: findservices() couldn't get services for 00-00-07-4c-9f-75: Timed out getting services for 00-00-07-4c-9f-75\n"
     ]
    },
    {
     "name": "stdout",
     "output_type": "stream",
     "text": [
      "\n",
      "trying 0000084c9f75"
     ]
    }
   ],
   "source": [
    "brute_uap = [chr(x).encode(\"hex\") for x in range(256)]\n",
    "brute_uap\n",
    "for i in brute_uap:\n",
    "    address = \"0000%s%s\" % (i,u_results[0])\n",
    "    print(\"trying %s\" % address)\n",
    "    try:\n",
    "        results = bluetooth.find_service(address=address)\n",
    "        if results:\n",
    "            print(results)\n",
    "            break\n",
    "    except:\n",
    "        pass"
   ]
  },
  {
   "cell_type": "markdown",
   "metadata": {
    "collapsed": true
   },
   "source": [
    "## Upcoming Milestones\n",
    "* Finish up porting over all command functions (WIP)\n",
    "* Rewrite my pure python libbtbb lib (WIP)\n",
    "* Create Ctypes libbtbb bindings (WIP)\n",
    "* Rewrite my ubertooth scapy rx layer\n",
    "* Create an ubertooth scapy tx layer\n",
    "* Possibly port it over to ruby as well (may have already been done)"
   ]
  }
 ],
 "metadata": {
  "kernelspec": {
   "display_name": "Python 2",
   "language": "python",
   "name": "python2"
  },
  "language_info": {
   "codemirror_mode": {
    "name": "ipython",
    "version": 2
   },
   "file_extension": ".py",
   "mimetype": "text/x-python",
   "name": "python",
   "nbconvert_exporter": "python",
   "pygments_lexer": "ipython2",
   "version": "2.7.11"
  }
 },
 "nbformat": 4,
 "nbformat_minor": 0
}
